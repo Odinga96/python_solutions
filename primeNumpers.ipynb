{
  "nbformat": 4,
  "nbformat_minor": 0,
  "metadata": {
    "colab": {
      "name": "primeNumpers",
      "provenance": [],
      "authorship_tag": "ABX9TyMStmiXn/wl6lUgRGxi1/xi",
      "include_colab_link": true
    },
    "kernelspec": {
      "name": "python3",
      "display_name": "Python 3"
    }
  },
  "cells": [
    {
      "cell_type": "markdown",
      "metadata": {
        "id": "view-in-github",
        "colab_type": "text"
      },
      "source": [
        "<a href=\"https://colab.research.google.com/github/Odinga96/python_solutions/blob/master/primeNumpers.ipynb\" target=\"_parent\"><img src=\"https://colab.research.google.com/assets/colab-badge.svg\" alt=\"Open In Colab\"/></a>"
      ]
    },
    {
      "cell_type": "code",
      "metadata": {
        "id": "wjXb9yvVnTsL",
        "colab_type": "code",
        "colab": {}
      },
      "source": [
        "# Yields a sequence of natural numbers\n",
        "def naturalNumbers(n):\n",
        "  yield n\n",
        "  yield from nats(n+1)"
      ],
      "execution_count": null,
      "outputs": []
    },
    {
      "cell_type": "code",
      "metadata": {
        "id": "r1WpoGI_nmyx",
        "colab_type": "code",
        "colab": {
          "base_uri": "https://localhost:8080/",
          "height": 34
        },
        "outputId": "a6824253-94da-49df-d2a7-202ff53ba0af"
      },
      "source": [
        "s = nats(2)\n",
        "next(s)"
      ],
      "execution_count": null,
      "outputs": [
        {
          "output_type": "execute_result",
          "data": {
            "text/plain": [
              "2"
            ]
          },
          "metadata": {
            "tags": []
          },
          "execution_count": 5
        }
      ]
    },
    {
      "cell_type": "code",
      "metadata": {
        "id": "usTz5du-n2_f",
        "colab_type": "code",
        "colab": {
          "base_uri": "https://localhost:8080/",
          "height": 34
        },
        "outputId": "5a99f8de-1e8f-4ec7-dcae-6e99f0e0e7f0"
      },
      "source": [
        "next(s)"
      ],
      "execution_count": null,
      "outputs": [
        {
          "output_type": "execute_result",
          "data": {
            "text/plain": [
              "3"
            ]
          },
          "metadata": {
            "tags": []
          },
          "execution_count": 6
        }
      ]
    },
    {
      "cell_type": "code",
      "metadata": {
        "id": "k0J1ppxzoK2e",
        "colab_type": "code",
        "colab": {}
      },
      "source": [
        "# Using a sieving mechanism we remove all non prime numbers\n",
        "# Working\n",
        "#  starting from a prime number say 2, get the next numbers and remove all multiples of 2\n",
        "#  move to next number in the sequence and recursively repeat the process\n",
        "def sieve(s):\n",
        "  n = next(s)\n",
        "  yield n\n",
        "  yield from sieve(i for i in s if i%n !=0)"
      ],
      "execution_count": null,
      "outputs": []
    },
    {
      "cell_type": "code",
      "metadata": {
        "id": "llNX4ArNpIfA",
        "colab_type": "code",
        "colab": {}
      },
      "source": [
        "# Example run\n",
        "p = sieve(nats(2))"
      ],
      "execution_count": null,
      "outputs": []
    },
    {
      "cell_type": "code",
      "metadata": {
        "id": "dEBd3eUepZTh",
        "colab_type": "code",
        "colab": {
          "base_uri": "https://localhost:8080/",
          "height": 191
        },
        "outputId": "9e517a5b-29b4-4bb9-bf9f-c1c779583a3e"
      },
      "source": [
        "# Gets 10 prime numbers from the generator p\n",
        "for i in range(10):\n",
        "  print(next(p))"
      ],
      "execution_count": null,
      "outputs": [
        {
          "output_type": "stream",
          "text": [
            "2\n",
            "3\n",
            "5\n",
            "7\n",
            "11\n",
            "13\n",
            "17\n",
            "19\n",
            "23\n",
            "29\n"
          ],
          "name": "stdout"
        }
      ]
    }
  ]
}